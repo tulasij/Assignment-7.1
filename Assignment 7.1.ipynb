{
 "cells": [
  {
   "cell_type": "code",
   "execution_count": 2,
   "metadata": {},
   "outputs": [],
   "source": [
    "mylist=[3, 5, 7, 2, 8, 10, 11, 65, 72, 81, 99, 100, 150]\n",
    "#window\n",
    "k=3"
   ]
  },
  {
   "cell_type": "code",
   "execution_count": 3,
   "metadata": {},
   "outputs": [
    {
     "name": "stdout",
     "output_type": "stream",
     "text": [
      "Moving average is 5.0\n",
      "Moving average is 4.666666666666667\n",
      "Moving average is 5.666666666666667\n",
      "Moving average is 6.666666666666667\n",
      "Moving average is 9.666666666666666\n",
      "Moving average is 28.666666666666668\n",
      "Moving average is 49.333333333333336\n",
      "Moving average is 72.66666666666667\n",
      "Moving average is 84.0\n",
      "Moving average is 93.33333333333333\n",
      "Moving average is 116.33333333333333\n"
     ]
    }
   ],
   "source": [
    "#Finding moving averages\n",
    "cumsum, moving_aves = [0],[]\n",
    "\n",
    "for i, x in enumerate(mylist, 1):\n",
    "    cumsum.append(cumsum[i-1] + x)\n",
    "    #print(\"cumsum i-1\", cumsum[i-1])\n",
    "    #print(\"cumsum is\", cumsum)\n",
    "    #print(\"i value is\",i)\n",
    "    #print(\"x value is\",x)\n",
    "    if i>=k:\n",
    "\n",
    "        moving_ave = (cumsum[i] - cumsum[i-k])/k\n",
    "        moving_aves.append(moving_ave)\n",
    "        print(\"Moving average is\", moving_ave)"
   ]
  },
  {
   "cell_type": "code",
   "execution_count": null,
   "metadata": {},
   "outputs": [],
   "source": []
  }
 ],
 "metadata": {
  "kernelspec": {
   "display_name": "Python 3",
   "language": "python",
   "name": "python3"
  },
  "language_info": {
   "codemirror_mode": {
    "name": "ipython",
    "version": 3
   },
   "file_extension": ".py",
   "mimetype": "text/x-python",
   "name": "python",
   "nbconvert_exporter": "python",
   "pygments_lexer": "ipython3",
   "version": "3.6.4"
  }
 },
 "nbformat": 4,
 "nbformat_minor": 2
}
